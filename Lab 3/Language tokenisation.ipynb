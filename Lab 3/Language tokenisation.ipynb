{
  "nbformat": 4,
  "nbformat_minor": 0,
  "metadata": {
    "colab": {
      "provenance": []
    },
    "kernelspec": {
      "name": "python3",
      "display_name": "Python 3"
    },
    "language_info": {
      "name": "python"
    }
  },
  "cells": [
    {
      "cell_type": "code",
      "execution_count": 5,
      "metadata": {
        "colab": {
          "base_uri": "https://localhost:8080/"
        },
        "id": "uXzsU8gdIlxx",
        "outputId": "bbe418ad-8c46-4ce7-beb2-4e9b3038cbc0"
      },
      "outputs": [
        {
          "output_type": "stream",
          "name": "stdout",
          "text": [
            "Requirement already satisfied: indic-nlp-library in /usr/local/lib/python3.10/dist-packages (0.92)\n",
            "Requirement already satisfied: sphinx-argparse in /usr/local/lib/python3.10/dist-packages (from indic-nlp-library) (0.4.0)\n",
            "Requirement already satisfied: sphinx-rtd-theme in /usr/local/lib/python3.10/dist-packages (from indic-nlp-library) (2.0.0)\n",
            "Requirement already satisfied: morfessor in /usr/local/lib/python3.10/dist-packages (from indic-nlp-library) (2.0.6)\n",
            "Requirement already satisfied: pandas in /usr/local/lib/python3.10/dist-packages (from indic-nlp-library) (1.5.3)\n",
            "Requirement already satisfied: numpy in /usr/local/lib/python3.10/dist-packages (from indic-nlp-library) (1.25.2)\n",
            "Requirement already satisfied: python-dateutil>=2.8.1 in /usr/local/lib/python3.10/dist-packages (from pandas->indic-nlp-library) (2.8.2)\n",
            "Requirement already satisfied: pytz>=2020.1 in /usr/local/lib/python3.10/dist-packages (from pandas->indic-nlp-library) (2023.4)\n",
            "Requirement already satisfied: sphinx>=1.2.0 in /usr/local/lib/python3.10/dist-packages (from sphinx-argparse->indic-nlp-library) (5.0.2)\n",
            "Requirement already satisfied: docutils<0.21 in /usr/local/lib/python3.10/dist-packages (from sphinx-rtd-theme->indic-nlp-library) (0.18.1)\n",
            "Requirement already satisfied: sphinxcontrib-jquery<5,>=4 in /usr/local/lib/python3.10/dist-packages (from sphinx-rtd-theme->indic-nlp-library) (4.1)\n",
            "Requirement already satisfied: six>=1.5 in /usr/local/lib/python3.10/dist-packages (from python-dateutil>=2.8.1->pandas->indic-nlp-library) (1.16.0)\n",
            "Requirement already satisfied: sphinxcontrib-applehelp in /usr/local/lib/python3.10/dist-packages (from sphinx>=1.2.0->sphinx-argparse->indic-nlp-library) (1.0.8)\n",
            "Requirement already satisfied: sphinxcontrib-devhelp in /usr/local/lib/python3.10/dist-packages (from sphinx>=1.2.0->sphinx-argparse->indic-nlp-library) (1.0.6)\n",
            "Requirement already satisfied: sphinxcontrib-jsmath in /usr/local/lib/python3.10/dist-packages (from sphinx>=1.2.0->sphinx-argparse->indic-nlp-library) (1.0.1)\n",
            "Requirement already satisfied: sphinxcontrib-htmlhelp>=2.0.0 in /usr/local/lib/python3.10/dist-packages (from sphinx>=1.2.0->sphinx-argparse->indic-nlp-library) (2.0.5)\n",
            "Requirement already satisfied: sphinxcontrib-serializinghtml>=1.1.5 in /usr/local/lib/python3.10/dist-packages (from sphinx>=1.2.0->sphinx-argparse->indic-nlp-library) (1.1.10)\n",
            "Requirement already satisfied: sphinxcontrib-qthelp in /usr/local/lib/python3.10/dist-packages (from sphinx>=1.2.0->sphinx-argparse->indic-nlp-library) (1.0.7)\n",
            "Requirement already satisfied: Jinja2>=2.3 in /usr/local/lib/python3.10/dist-packages (from sphinx>=1.2.0->sphinx-argparse->indic-nlp-library) (3.1.3)\n",
            "Requirement already satisfied: Pygments>=2.0 in /usr/local/lib/python3.10/dist-packages (from sphinx>=1.2.0->sphinx-argparse->indic-nlp-library) (2.16.1)\n",
            "Requirement already satisfied: snowballstemmer>=1.1 in /usr/local/lib/python3.10/dist-packages (from sphinx>=1.2.0->sphinx-argparse->indic-nlp-library) (2.2.0)\n",
            "Requirement already satisfied: babel>=1.3 in /usr/local/lib/python3.10/dist-packages (from sphinx>=1.2.0->sphinx-argparse->indic-nlp-library) (2.14.0)\n",
            "Requirement already satisfied: alabaster<0.8,>=0.7 in /usr/local/lib/python3.10/dist-packages (from sphinx>=1.2.0->sphinx-argparse->indic-nlp-library) (0.7.16)\n",
            "Requirement already satisfied: imagesize in /usr/local/lib/python3.10/dist-packages (from sphinx>=1.2.0->sphinx-argparse->indic-nlp-library) (1.4.1)\n",
            "Requirement already satisfied: requests>=2.5.0 in /usr/local/lib/python3.10/dist-packages (from sphinx>=1.2.0->sphinx-argparse->indic-nlp-library) (2.31.0)\n",
            "Requirement already satisfied: packaging in /usr/local/lib/python3.10/dist-packages (from sphinx>=1.2.0->sphinx-argparse->indic-nlp-library) (23.2)\n",
            "Requirement already satisfied: MarkupSafe>=2.0 in /usr/local/lib/python3.10/dist-packages (from Jinja2>=2.3->sphinx>=1.2.0->sphinx-argparse->indic-nlp-library) (2.1.5)\n",
            "Requirement already satisfied: charset-normalizer<4,>=2 in /usr/local/lib/python3.10/dist-packages (from requests>=2.5.0->sphinx>=1.2.0->sphinx-argparse->indic-nlp-library) (3.3.2)\n",
            "Requirement already satisfied: idna<4,>=2.5 in /usr/local/lib/python3.10/dist-packages (from requests>=2.5.0->sphinx>=1.2.0->sphinx-argparse->indic-nlp-library) (3.6)\n",
            "Requirement already satisfied: urllib3<3,>=1.21.1 in /usr/local/lib/python3.10/dist-packages (from requests>=2.5.0->sphinx>=1.2.0->sphinx-argparse->indic-nlp-library) (2.0.7)\n",
            "Requirement already satisfied: certifi>=2017.4.17 in /usr/local/lib/python3.10/dist-packages (from requests>=2.5.0->sphinx>=1.2.0->sphinx-argparse->indic-nlp-library) (2024.2.2)\n",
            "\n",
            "\n",
            "Hindi Tokens: ['विश्वविद्यालय', 'के', 'पुस्तकालय', 'में', 'शांति', 'बहुत', 'है', '।']\n",
            "Spanish Tokens: ['El', 'mundo', 'es', 'un', 'libro', ',', 'y', 'aquellos', 'que', 'no', 'viajan', 'leen', 'solo', 'una', 'página', '.']\n"
          ]
        }
      ],
      "source": [
        "# Install indicnlp library\n",
        "!pip install indic-nlp-library\n",
        "\n",
        "import indicnlp\n",
        "from indicnlp.tokenize import indic_tokenize"
      ]
    },
    {
      "cell_type": "code",
      "source": [
        "# Hindi text\n",
        "hindi_text = \"निरंतर अभ्यास करना जीवन में एक महत्वपूर्ण गुण है। यह न केवल हमें नई जानकारी और कौशलों को सीखने का मौका देता है, बल्कि हमारे मानसिक स्थिति को भी सुधारता है। निरंतर सीखने से हमारी विचारशक्ति मजबूत होती है और हम स्वयं को अपने लक्ष्यों के प्राप्ति में अधिक समर्थ महसूस करते हैं।\"\n",
        "\n",
        "# Tokenize Hindi text using indicnlp\n",
        "hindi_tokens = indic_tokenize.trivial_tokenize(hindi_text)\n",
        "\n",
        "print(\"Hindi Tokens:\", hindi_tokens)\n",
        "\n",
        "# Spanish text\n",
        "spanish_text = \"Aprender continuamente es una cualidad importante en la vida. No solo nos brinda la oportunidad de adquirir nuevos conocimientos y habilidades, sino que también mejora nuestra salud mental. El aprendizaje constante fortalece nuestra capacidad de pensamiento y nos hace sentir más capaces de lograr nuestros objetivos.\"\n",
        "print()\n",
        "print()\n",
        "# Tokenize Spanish text using nltk\n",
        "spanish_tokens = nltk.word_tokenize(spanish_text)\n",
        "\n",
        "print(\"Spanish Tokens:\", spanish_tokens)"
      ],
      "metadata": {
        "colab": {
          "base_uri": "https://localhost:8080/"
        },
        "id": "vyIlKkp7JweB",
        "outputId": "8b1cb4b7-463d-4a2f-a8bb-a5ba54e82462"
      },
      "execution_count": 7,
      "outputs": [
        {
          "output_type": "stream",
          "name": "stdout",
          "text": [
            "Hindi Tokens: ['निरंतर', 'अभ्यास', 'करना', 'जीवन', 'में', 'एक', 'महत्वपूर्ण', 'गुण', 'है', '।', 'यह', 'न', 'केवल', 'हमें', 'नई', 'जानकारी', 'और', 'कौशलों', 'को', 'सीखने', 'का', 'मौका', 'देता', 'है', ',', 'बल्कि', 'हमारे', 'मानसिक', 'स्थिति', 'को', 'भी', 'सुधारता', 'है', '।', 'निरंतर', 'सीखने', 'से', 'हमारी', 'विचारशक्ति', 'मजबूत', 'होती', 'है', 'और', 'हम', 'स्वयं', 'को', 'अपने', 'लक्ष्यों', 'के', 'प्राप्ति', 'में', 'अधिक', 'समर्थ', 'महसूस', 'करते', 'हैं', '।']\n",
            "\n",
            "\n",
            "Spanish Tokens: ['Aprender', 'continuamente', 'es', 'una', 'cualidad', 'importante', 'en', 'la', 'vida', '.', 'No', 'solo', 'nos', 'brinda', 'la', 'oportunidad', 'de', 'adquirir', 'nuevos', 'conocimientos', 'y', 'habilidades', ',', 'sino', 'que', 'también', 'mejora', 'nuestra', 'salud', 'mental', '.', 'El', 'aprendizaje', 'constante', 'fortalece', 'nuestra', 'capacidad', 'de', 'pensamiento', 'y', 'nos', 'hace', 'sentir', 'más', 'capaces', 'de', 'lograr', 'nuestros', 'objetivos', '.']\n"
          ]
        }
      ]
    }
  ]
}
